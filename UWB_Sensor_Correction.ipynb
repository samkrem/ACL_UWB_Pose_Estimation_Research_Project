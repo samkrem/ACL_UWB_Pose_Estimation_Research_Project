{
  "nbformat": 4,
  "nbformat_minor": 0,
  "metadata": {
    "colab": {
      "provenance": [],
      "gpuType": "T4",
      "authorship_tag": "ABX9TyPK8AI2lRph95do362836Yp",
      "include_colab_link": true
    },
    "kernelspec": {
      "name": "python3",
      "display_name": "Python 3"
    },
    "language_info": {
      "name": "python"
    },
    "accelerator": "GPU"
  },
  "cells": [
    {
      "cell_type": "markdown",
      "metadata": {
        "id": "view-in-github",
        "colab_type": "text"
      },
      "source": [
        "<a href=\"https://colab.research.google.com/github/samkrem/ACL_UWB_SLAM/blob/main/UWB_Sensor_Correction.ipynb\" target=\"_parent\"><img src=\"https://colab.research.google.com/assets/colab-badge.svg\" alt=\"Open In Colab\"/></a>"
      ]
    },
    {
      "cell_type": "code",
      "execution_count": null,
      "metadata": {
        "id": "bt-ZBqnsvgmP"
      },
      "outputs": [],
      "source": [
        "#Import necessary libraries and files\n",
        "import numpy as np\n",
        "\n",
        "import torch\n",
        "import torch.nn as nn\n",
        "import torch.optim as optim\n",
        "from torch.utils.data import DataLoader, TensorDataset\n",
        "\n",
        "from sklearn.model_selection import train_test_split\n",
        "from sklearn.preprocessing import StandardScaler\n",
        "\n",
        "from pathlib import Path\n",
        "\n",
        "\n"
      ]
    },
    {
      "cell_type": "code",
      "source": [
        "# Setup device-agnostic code\n",
        "device = \"cuda\" if torch.cuda.is_available() else \"cpu\"\n",
        "device"
      ],
      "metadata": {
        "colab": {
          "base_uri": "https://localhost:8080/",
          "height": 35
        },
        "id": "SFIbAelxz6b8",
        "outputId": "a3fb1813-aa4f-4929-bdc6-b95292c3fb1a"
      },
      "execution_count": null,
      "outputs": [
        {
          "output_type": "execute_result",
          "data": {
            "text/plain": [
              "'cuda'"
            ],
            "application/vnd.google.colaboratory.intrinsic+json": {
              "type": "string"
            }
          },
          "metadata": {},
          "execution_count": 19
        }
      ]
    },
    {
      "cell_type": "code",
      "source": [
        "#posefileName=\"swarm/workspaces/UWB/atb.bin\"\n",
        "\n",
        "def binFileToStr(file_path):\n",
        "  with open(file_path, \"rb\") as file:\n",
        "    file_str = file.read()\n",
        "  chosen_encoding = 'ascii'\n",
        "  try:\n",
        "    decoded_file_str = binary_data.decode(chosen_encoding)\n",
        "  except UnicodeDecodeError as e:\n",
        "    print(f\"Error decoding binary data: {e}\")\n",
        "  return decoded_file_str\n",
        "\n",
        "UWB_file_path=\"atb.bin\"\n",
        "UWB_pose=binFileToStr(UWB_file_path)\n",
        "\n",
        "true_pose_file_path= \"atb.bin\"\n",
        "true_pose=binFileToStr(true_pose_file_path)\n",
        "\n"
      ],
      "metadata": {
        "id": "Ne4-6GZZUrw3"
      },
      "execution_count": null,
      "outputs": []
    },
    {
      "cell_type": "code",
      "source": [
        "def stringToTensorGPU (pose_str):\n",
        "  #first convert to list then to numpy array\n",
        "\n",
        "  pose_str=pose_str.replace(\"\\n\", \"\")\n",
        "  pose_np_unshaped = np.fromstring(pose_str, dtype= float, sep=' ')\n",
        "  pose_np=np.reshape(pose_np_unshaped,(-1, 6))\n",
        "  pose_tensor_GPU=torch.tensor(pose_np, dtype=torch.float32).to(device)\n",
        "\n",
        "  return pose_tensor_GPU\n",
        "\n",
        "X_ultrawideband=stringToTensorGPU(UWB_pose)\n",
        "y_true_pose=stringToTensorGPU(true_pose)\n",
        "\n",
        "#for just train test\n",
        "# X_train, X_test, y_train, y_test = train_test_split(X_ultrawideband, y_true_pose, test_size=0.3, random_state=42)\n",
        "\n",
        "# for train, validation, test\n",
        "# X_train, X_validtest, y_train, y_validtest = train_test_split(X_ultrawideband, y_true_pose, test_size=0.3, random_state=42)\n",
        "# X_valid, X_test, y_valid, y_test= train_test_split(X_validtest, y_validtest, test_size=0.5, random_state=42)\n"
      ],
      "metadata": {
        "id": "m9gQ9bDDXLkU"
      },
      "execution_count": null,
      "outputs": []
    },
    {
      "cell_type": "code",
      "source": [
        "uwb_seed=42\n",
        "np.random.seed(uwb_seed)\n",
        "X_ultrawideband = np.random.rand(1000, 6)  # 1000 samples, 6 features (x, y, z, roll, pitch, yaw)\n",
        "\n",
        "true_pose_seed=43\n",
        "np.random.seed(true_pose_seed)\n",
        "y_true_pose = np.random.rand(1000, 6)       # Corresponding true poses # think ab out if true pose is X vs y\n",
        "# Split the data into training and testing sets\n",
        "X_train, X_test, y_train, y_test = train_test_split(X_ultrawideband, y_true_pose, test_size=0.2, random_state=42)\n"
      ],
      "metadata": {
        "id": "Gv8N0IL12S8s"
      },
      "execution_count": null,
      "outputs": []
    },
    {
      "cell_type": "code",
      "source": [
        "# Standardize the input data\n",
        "X_scaler = StandardScaler()\n",
        "X_train_scaled = X_scaler.fit_transform(X_train)\n",
        "#X_valid_scaled= X_scaler.fit_transform(X_valid)\n",
        "X_test_scaled = X_scaler.fit_transform(X_test)\n",
        "\n",
        "#Standardize the true data\n",
        "y_scaler= StandardScaler()\n",
        "y_train_scaled = y_scaler.fit_transform(y_train)\n",
        "#y_valid_scaled= y_scaler.fit_transform(y_valid)\n",
        "\n",
        "y_test_scaled = y_scaler.fit_transform(y_test)\n"
      ],
      "metadata": {
        "id": "FDtAdskMF7o-"
      },
      "execution_count": null,
      "outputs": []
    },
    {
      "cell_type": "code",
      "source": [
        "# Convert data to PyTorch tensors then convert to GPU THIS IS UNESCESARY WITH THE GPU METHOD because we already have tensors in GPU\n",
        "X_train_tensor = torch.tensor(X_train_scaled, dtype=torch.float32).to(device)\n",
        "y_train_tensor = torch.tensor(y_train, dtype=torch.float32).to(device)\n",
        "X_test_tensor = torch.tensor(X_test_scaled, dtype=torch.float32).to(device)\n",
        "y_test_tensor = torch.tensor(y_test, dtype=torch.float32).to(device)"
      ],
      "metadata": {
        "id": "YOFakqxdGHw_"
      },
      "execution_count": null,
      "outputs": []
    },
    {
      "cell_type": "code",
      "source": [
        "# Define the neural network model\n",
        "class BiasCorrectionModel(nn.Module):\n",
        "    def __init__(self):\n",
        "        super().__init__()\n",
        "        self.fc1 = nn.Linear(6, 64) #trial and error, adjust/look at hyperparameters\n",
        "        self.fc2 = nn.Linear(64, 64)\n",
        "        self.fc3 = nn.Linear(64, 6)\n",
        "\n",
        "    def forward(self, x):\n",
        "        x = torch.relu(self.fc1(x))\n",
        "        x = torch.relu(self.fc2(x))\n",
        "        x = self.fc3(x)\n",
        "        return x\n"
      ],
      "metadata": {
        "id": "uPkVx5l0GbCU"
      },
      "execution_count": null,
      "outputs": []
    },
    {
      "cell_type": "code",
      "source": [
        "model= BiasCorrectionModel()\n",
        "model.to(device)\n",
        "#print(f\"model.state_dict(): {model.state_dict()}\")\n",
        "\n",
        "fc1weight_shape=model.state_dict()[\"fc1.weight\"].shape\n",
        "fc1bias_shape=model.state_dict()[\"fc1.bias\"].shape\n",
        "\n",
        "fc2weight_shape=model.state_dict()[\"fc2.weight\"].shape\n",
        "fc2bias_shape=model.state_dict()[\"fc2.bias\"].shape\n",
        "\n",
        "fc3weight_shape=model.state_dict()[\"fc3.weight\"].shape\n",
        "fc3bias_shape=model.state_dict()[\"fc3.bias\"].shape\n",
        "\n",
        "print(f\"model state dict keys: {model.state_dict().keys()}\")\n",
        "print(f\"fc1weight_shape: {fc1weight_shape} | fc1bias_shape: {fc1bias_shape}\")\n",
        "print(f\"fc2weight_shape: {fc2weight_shape} | fc2bias_shape: {fc2bias_shape}\")\n",
        "print(f\"fc3weight_shape: {fc3weight_shape} | fc3bias_shape: {fc3bias_shape}\")\n"
      ],
      "metadata": {
        "colab": {
          "base_uri": "https://localhost:8080/"
        },
        "id": "naZYu0fZIjdg",
        "outputId": "1bedff53-4138-41e2-e397-84fae9b20123"
      },
      "execution_count": null,
      "outputs": [
        {
          "output_type": "stream",
          "name": "stdout",
          "text": [
            "model state dict keys: odict_keys(['fc1.weight', 'fc1.bias', 'fc2.weight', 'fc2.bias', 'fc3.weight', 'fc3.bias'])\n",
            "fc1weight_shape: torch.Size([64, 6]) | fc1bias_shape: torch.Size([64])\n",
            "fc2weight_shape: torch.Size([64, 64]) | fc2bias_shape: torch.Size([64])\n",
            "fc3weight_shape: torch.Size([6, 64]) | fc3bias_shape: torch.Size([6])\n"
          ]
        }
      ]
    },
    {
      "cell_type": "code",
      "source": [
        "#Setup loss function & optimizer\n",
        "loss_fn = nn.MSELoss()\n",
        "optimizer = optim.AdamW(model.parameters(), lr=0.001)"
      ],
      "metadata": {
        "id": "E-GOAhUdOf6k"
      },
      "execution_count": null,
      "outputs": []
    },
    {
      "cell_type": "code",
      "source": [
        "#Set up batches\n",
        "\n",
        "train_dataset = TensorDataset(X_train_tensor, y_train_tensor)\n",
        "train_loader = DataLoader(train_dataset, batch_size=64, shuffle=True)"
      ],
      "metadata": {
        "id": "HzfctTLMrXf5"
      },
      "execution_count": null,
      "outputs": []
    },
    {
      "cell_type": "code",
      "source": [
        "epochs=500\n",
        "batch_size=64\n",
        "\n",
        "epoch_count= []\n",
        "loss_values= []\n",
        "test_loss_values = []\n",
        "\n",
        "\n",
        "for epoch in range(epochs):\n",
        "  #Set model to training mode\n",
        "  model.train()\n",
        "  for batch_X, batch_y in train_loader:\n",
        "    #1. Forward pass\n",
        "    y_batch_pred = model(batch_X) #predicted pose essentially? or is this the error\n",
        "\n",
        "    #2. Calculate loss\n",
        "    loss = loss_fn(y_batch_pred, batch_y)    #comparing loss between predictions and real pose data\n",
        "\n",
        "    #3. Zero the gradient\n",
        "    optimizer.zero_grad()\n",
        "\n",
        "    #3. Perform backpropogation:\n",
        "    loss.backward()\n",
        "\n",
        "    #4. Step the optimizer\n",
        "    optimizer.step()\n",
        "\n",
        "  model.eval()\n",
        "  with torch.inference_mode(): #testing the predictions\n",
        "    test_pred=model(X_test_tensor)\n",
        "    test_loss=loss_fn(test_pred, y_test_tensor)\n",
        "\n",
        "  if epoch%100==0: #just to print info\n",
        "    epoch_count.append(epoch)\n",
        "    loss_values.append(loss)\n",
        "    test_loss_values.append(test_loss)\n",
        "    print(f\"Epoch:{epoch}| Loss: {loss} | Test loss: {test_loss}\")\n",
        "\n",
        "\n",
        "model.eval()\n",
        "with torch.inference_mode():\n",
        "    std_corrected_UWB_pose = model(torch.tensor(X_ultrawideband, dtype=torch.float32).to(device))\n",
        "    std_corrected_UWB_pose_np= std_corrected_UWB_pose.cpu().numpy()\n",
        "\n",
        "\n"
      ],
      "metadata": {
        "colab": {
          "base_uri": "https://localhost:8080/"
        },
        "id": "Kr_rDGP6O00h",
        "outputId": "01789baa-a78f-40fd-8fa7-7ec6008d992b"
      },
      "execution_count": null,
      "outputs": [
        {
          "output_type": "stream",
          "name": "stdout",
          "text": [
            "Epoch:0| Loss: 0.023785963654518127 | Test loss: 0.16352808475494385\n",
            "Epoch:100| Loss: 0.02378189191222191 | Test loss: 0.1671537607908249\n",
            "Epoch:200| Loss: 0.020764712244272232 | Test loss: 0.1675221025943756\n",
            "Epoch:300| Loss: 0.02178901433944702 | Test loss: 0.17068596184253693\n",
            "Epoch:400| Loss: 0.02159104496240616 | Test loss: 0.17230242490768433\n"
          ]
        }
      ]
    },
    {
      "cell_type": "code",
      "source": [
        "    unstd_pose_pred=X_scaler.inverse_transform(std_corrected_UWB_pose_np) #undstandardizes the pose\n"
      ],
      "metadata": {
        "id": "TsumOevfY1s5"
      },
      "execution_count": null,
      "outputs": []
    },
    {
      "cell_type": "code",
      "source": [
        "print(std_corrected_UWB_pose_np)\n",
        "\n",
        "print(unstd_pose_pred)\n",
        "\n",
        "print(y_test_tensor)"
      ],
      "metadata": {
        "colab": {
          "base_uri": "https://localhost:8080/"
        },
        "id": "owHlLHv1WXlv",
        "outputId": "8c1117a5-d7c8-42a1-ebab-864046250402"
      },
      "execution_count": null,
      "outputs": [
        {
          "output_type": "stream",
          "name": "stdout",
          "text": [
            "[[0.728162   0.28526983 0.24886122 0.64477015 0.77886206 0.54700196]\n",
            " [0.6983419  0.27485135 0.20278019 0.8154452  1.1004988  0.7042091 ]\n",
            " [0.678759   0.43025148 0.6197879  0.92913306 1.2434137  0.3930892 ]\n",
            " ...\n",
            " [0.9425957  0.6889063  0.6899925  0.9854301  0.6846244  0.41858158]\n",
            " [0.5449331  0.10044131 0.0951969  0.9601774  0.86527735 0.84883255]\n",
            " [0.8296205  0.5704891  0.4072615  0.6173371  0.52849865 0.56471837]]\n",
            "[[0.70613974 0.56530404 0.5483534  0.68999493 0.7208014  0.6731396 ]\n",
            " [0.69739294 0.5623857  0.5342208  0.7365346  0.81533647 0.721369  ]\n",
            " [0.69164896 0.6059157  0.66211283 0.76753503 0.8573418  0.62592083]\n",
            " ...\n",
            " [0.76903707 0.6783691  0.6836439  0.7828861  0.6931032  0.6337416 ]\n",
            " [0.65239537 0.5135306  0.50122607 0.7760002  0.7462005  0.76573795]\n",
            " [0.7358994  0.6451986  0.5969331  0.6825145  0.64721495 0.6785748 ]]\n",
            "tensor([[0.7750, 0.0772, 0.4166, 0.5351, 0.3047, 0.2069],\n",
            "        [0.5821, 0.4093, 0.5621, 0.9074, 0.3667, 0.2544],\n",
            "        [0.4084, 0.3484, 0.6304, 0.9612, 0.6997, 0.8898],\n",
            "        ...,\n",
            "        [0.5273, 0.8679, 0.1368, 0.8230, 0.4618, 0.2125],\n",
            "        [0.7165, 0.1977, 0.5968, 0.9926, 0.2750, 0.4953],\n",
            "        [0.6008, 0.8183, 0.2408, 0.5582, 0.1723, 0.7926]], device='cuda:0')\n"
          ]
        }
      ]
    },
    {
      "cell_type": "code",
      "source": [],
      "metadata": {
        "colab": {
          "base_uri": "https://localhost:8080/"
        },
        "id": "B5z6m9r4h0-9",
        "outputId": "e0b92fb6-f53d-4a6f-d181-7e39ce6d8c50"
      },
      "execution_count": null,
      "outputs": [
        {
          "output_type": "stream",
          "name": "stdout",
          "text": [
            "tensor([[0.7750, 0.0772, 0.4166, 0.5351, 0.3047, 0.2069],\n",
            "        [0.5821, 0.4093, 0.5621, 0.9074, 0.3667, 0.2544],\n",
            "        [0.4084, 0.3484, 0.6304, 0.9612, 0.6997, 0.8898],\n",
            "        ...,\n",
            "        [0.5273, 0.8679, 0.1368, 0.8230, 0.4618, 0.2125],\n",
            "        [0.7165, 0.1977, 0.5968, 0.9926, 0.2750, 0.4953],\n",
            "        [0.6008, 0.8183, 0.2408, 0.5582, 0.1723, 0.7926]], device='cuda:0')\n"
          ]
        }
      ]
    },
    {
      "cell_type": "code",
      "source": [
        "#Input value X\n",
        "print(f\"y_true_pose[0][0]: {y_true_pose[0][0]}\")\n",
        "print(f\"unstd_pose_pred[0][0]: {unstd_pose_pred[0][0]}\")"
      ],
      "metadata": {
        "colab": {
          "base_uri": "https://localhost:8080/"
        },
        "id": "ZpDg8wstiiRq",
        "outputId": "2e341686-c0d3-4868-f3a9-11a578370eb9"
      },
      "execution_count": null,
      "outputs": [
        {
          "output_type": "stream",
          "name": "stdout",
          "text": [
            "y_true_pose[0][0]: 0.11505456638977896\n",
            "unstd_pose_pred[0][0]: 0.7061397433280945\n"
          ]
        }
      ]
    },
    {
      "cell_type": "code",
      "source": [
        "#Saving model\n",
        "\n",
        "# 1. Create models directory\n",
        "MODEL_PATH = Path(\"models\")\n",
        "MODEL_PATH.mkdir(parents=True, exist_ok=True)\n",
        "\n",
        "# 2. Create model save path\n",
        "MODEL_NAME=\"UWB_Sensor_Correction_Model.pth\" #pytorch saved as .pth /.pt\n",
        "MODEL_SAVE_PATH= MODEL_PATH / MODEL_NAME\n",
        "\n",
        "# 3. Save the model state dict\n",
        "torch.save(obj=model.state_dict(), f=MODEL_SAVE_PATH)\n",
        "\n",
        "\n",
        "# Create new instance of model and load saved state dict (make sure to put it on the target device)\n",
        "loaded_model=BiasCorrectionModel()\n",
        "loaded_model.load_state_dict(torch.load(f=MODEL_SAVE_PATH))\n",
        "loaded_model.to(device)\n",
        "next(loaded_model.parameters()).device\n",
        "\n",
        "\n",
        "\n",
        "loaded_model.to(device)\n",
        "next(loaded_model.parameters()).device"
      ],
      "metadata": {
        "id": "GZL89Ie9Jx6O"
      },
      "execution_count": null,
      "outputs": []
    }
  ]
}