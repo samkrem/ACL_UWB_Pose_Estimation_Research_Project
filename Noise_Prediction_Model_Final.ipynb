{
  "nbformat": 4,
  "nbformat_minor": 0,
  "metadata": {
    "colab": {
      "provenance": [],
      "gpuType": "T4",
      "authorship_tag": "ABX9TyOTfdqxLsx9k/tkPFR+0PRO",
      "include_colab_link": true
    },
    "kernelspec": {
      "name": "python3",
      "display_name": "Python 3"
    },
    "language_info": {
      "name": "python"
    },
    "accelerator": "GPU"
  },
  "cells": [
    {
      "cell_type": "markdown",
      "metadata": {
        "id": "view-in-github",
        "colab_type": "text"
      },
      "source": [
        "<a href=\"https://colab.research.google.com/github/samkrem/ACL_UWB_Pose_Estimation_Research_Project/blob/main/Noise_Prediction_Model_Final.ipynb\" target=\"_parent\"><img src=\"https://colab.research.google.com/assets/colab-badge.svg\" alt=\"Open In Colab\"/></a>"
      ]
    },
    {
      "cell_type": "code",
      "execution_count": null,
      "metadata": {
        "id": "8eIOmWrDJsEN"
      },
      "outputs": [],
      "source": [
        "import numpy as np\n",
        "import matplotlib.pyplot as plt\n",
        "\n",
        "\n",
        "import torch\n",
        "import torch.nn as nn\n",
        "import torch.distributions as distributions\n",
        "import torch.optim as optim\n",
        "from torch.utils.data import DataLoader, TensorDataset\n",
        "\n",
        "from sklearn.model_selection import train_test_split\n",
        "\n",
        "from pathlib import Path\n",
        "from itertools import product\n",
        "\n",
        "import pandas as pd"
      ]
    },
    {
      "cell_type": "code",
      "source": [
        "#If importing from google drive/using google colab\n",
        "from google.colab import drive\n",
        "\n",
        "drive.mount('/content/gdrive')\n",
        "file_path_on_drive = '/content/gdrive/My Drive/ACL_UWB_NN_models/Uniform(min=-0.1, max=0.1).csv'\n",
        "df = pd.read_csv(file_path_on_drive)\n",
        "\n"
      ],
      "metadata": {
        "id": "GYEoSEw0KER8",
        "colab": {
          "base_uri": "https://localhost:8080/"
        },
        "outputId": "4b464efc-abfc-4785-985e-d1630fc0d22d"
      },
      "execution_count": null,
      "outputs": [
        {
          "output_type": "stream",
          "name": "stdout",
          "text": [
            "Drive already mounted at /content/gdrive; to attempt to forcibly remount, call drive.mount(\"/content/gdrive\", force_remount=True).\n"
          ]
        }
      ]
    },
    {
      "cell_type": "code",
      "source": [
        "#Importing from desktop\n",
        "from google.colab import files\n",
        "import io\n",
        "\n",
        "uploaded = files.upload()\n",
        "df = pd.read_csv(io.BytesIO(uploaded['~/.csv']), skiprows=1)"
      ],
      "metadata": {
        "id": "207Wp2IQKSnZ",
        "colab": {
          "base_uri": "https://localhost:8080/",
          "height": 377
        },
        "outputId": "34028985-33a0-46bf-a30c-0a89cc006f98"
      },
      "execution_count": null,
      "outputs": [
        {
          "output_type": "display_data",
          "data": {
            "text/plain": [
              "<IPython.core.display.HTML object>"
            ],
            "text/html": [
              "\n",
              "     <input type=\"file\" id=\"files-d2999359-0bb0-41a5-86e8-41ce6d1f03bb\" name=\"files[]\" multiple disabled\n",
              "        style=\"border:none\" />\n",
              "     <output id=\"result-d2999359-0bb0-41a5-86e8-41ce6d1f03bb\">\n",
              "      Upload widget is only available when the cell has been executed in the\n",
              "      current browser session. Please rerun this cell to enable.\n",
              "      </output>\n",
              "      <script>// Copyright 2017 Google LLC\n",
              "//\n",
              "// Licensed under the Apache License, Version 2.0 (the \"License\");\n",
              "// you may not use this file except in compliance with the License.\n",
              "// You may obtain a copy of the License at\n",
              "//\n",
              "//      http://www.apache.org/licenses/LICENSE-2.0\n",
              "//\n",
              "// Unless required by applicable law or agreed to in writing, software\n",
              "// distributed under the License is distributed on an \"AS IS\" BASIS,\n",
              "// WITHOUT WARRANTIES OR CONDITIONS OF ANY KIND, either express or implied.\n",
              "// See the License for the specific language governing permissions and\n",
              "// limitations under the License.\n",
              "\n",
              "/**\n",
              " * @fileoverview Helpers for google.colab Python module.\n",
              " */\n",
              "(function(scope) {\n",
              "function span(text, styleAttributes = {}) {\n",
              "  const element = document.createElement('span');\n",
              "  element.textContent = text;\n",
              "  for (const key of Object.keys(styleAttributes)) {\n",
              "    element.style[key] = styleAttributes[key];\n",
              "  }\n",
              "  return element;\n",
              "}\n",
              "\n",
              "// Max number of bytes which will be uploaded at a time.\n",
              "const MAX_PAYLOAD_SIZE = 100 * 1024;\n",
              "\n",
              "function _uploadFiles(inputId, outputId) {\n",
              "  const steps = uploadFilesStep(inputId, outputId);\n",
              "  const outputElement = document.getElementById(outputId);\n",
              "  // Cache steps on the outputElement to make it available for the next call\n",
              "  // to uploadFilesContinue from Python.\n",
              "  outputElement.steps = steps;\n",
              "\n",
              "  return _uploadFilesContinue(outputId);\n",
              "}\n",
              "\n",
              "// This is roughly an async generator (not supported in the browser yet),\n",
              "// where there are multiple asynchronous steps and the Python side is going\n",
              "// to poll for completion of each step.\n",
              "// This uses a Promise to block the python side on completion of each step,\n",
              "// then passes the result of the previous step as the input to the next step.\n",
              "function _uploadFilesContinue(outputId) {\n",
              "  const outputElement = document.getElementById(outputId);\n",
              "  const steps = outputElement.steps;\n",
              "\n",
              "  const next = steps.next(outputElement.lastPromiseValue);\n",
              "  return Promise.resolve(next.value.promise).then((value) => {\n",
              "    // Cache the last promise value to make it available to the next\n",
              "    // step of the generator.\n",
              "    outputElement.lastPromiseValue = value;\n",
              "    return next.value.response;\n",
              "  });\n",
              "}\n",
              "\n",
              "/**\n",
              " * Generator function which is called between each async step of the upload\n",
              " * process.\n",
              " * @param {string} inputId Element ID of the input file picker element.\n",
              " * @param {string} outputId Element ID of the output display.\n",
              " * @return {!Iterable<!Object>} Iterable of next steps.\n",
              " */\n",
              "function* uploadFilesStep(inputId, outputId) {\n",
              "  const inputElement = document.getElementById(inputId);\n",
              "  inputElement.disabled = false;\n",
              "\n",
              "  const outputElement = document.getElementById(outputId);\n",
              "  outputElement.innerHTML = '';\n",
              "\n",
              "  const pickedPromise = new Promise((resolve) => {\n",
              "    inputElement.addEventListener('change', (e) => {\n",
              "      resolve(e.target.files);\n",
              "    });\n",
              "  });\n",
              "\n",
              "  const cancel = document.createElement('button');\n",
              "  inputElement.parentElement.appendChild(cancel);\n",
              "  cancel.textContent = 'Cancel upload';\n",
              "  const cancelPromise = new Promise((resolve) => {\n",
              "    cancel.onclick = () => {\n",
              "      resolve(null);\n",
              "    };\n",
              "  });\n",
              "\n",
              "  // Wait for the user to pick the files.\n",
              "  const files = yield {\n",
              "    promise: Promise.race([pickedPromise, cancelPromise]),\n",
              "    response: {\n",
              "      action: 'starting',\n",
              "    }\n",
              "  };\n",
              "\n",
              "  cancel.remove();\n",
              "\n",
              "  // Disable the input element since further picks are not allowed.\n",
              "  inputElement.disabled = true;\n",
              "\n",
              "  if (!files) {\n",
              "    return {\n",
              "      response: {\n",
              "        action: 'complete',\n",
              "      }\n",
              "    };\n",
              "  }\n",
              "\n",
              "  for (const file of files) {\n",
              "    const li = document.createElement('li');\n",
              "    li.append(span(file.name, {fontWeight: 'bold'}));\n",
              "    li.append(span(\n",
              "        `(${file.type || 'n/a'}) - ${file.size} bytes, ` +\n",
              "        `last modified: ${\n",
              "            file.lastModifiedDate ? file.lastModifiedDate.toLocaleDateString() :\n",
              "                                    'n/a'} - `));\n",
              "    const percent = span('0% done');\n",
              "    li.appendChild(percent);\n",
              "\n",
              "    outputElement.appendChild(li);\n",
              "\n",
              "    const fileDataPromise = new Promise((resolve) => {\n",
              "      const reader = new FileReader();\n",
              "      reader.onload = (e) => {\n",
              "        resolve(e.target.result);\n",
              "      };\n",
              "      reader.readAsArrayBuffer(file);\n",
              "    });\n",
              "    // Wait for the data to be ready.\n",
              "    let fileData = yield {\n",
              "      promise: fileDataPromise,\n",
              "      response: {\n",
              "        action: 'continue',\n",
              "      }\n",
              "    };\n",
              "\n",
              "    // Use a chunked sending to avoid message size limits. See b/62115660.\n",
              "    let position = 0;\n",
              "    do {\n",
              "      const length = Math.min(fileData.byteLength - position, MAX_PAYLOAD_SIZE);\n",
              "      const chunk = new Uint8Array(fileData, position, length);\n",
              "      position += length;\n",
              "\n",
              "      const base64 = btoa(String.fromCharCode.apply(null, chunk));\n",
              "      yield {\n",
              "        response: {\n",
              "          action: 'append',\n",
              "          file: file.name,\n",
              "          data: base64,\n",
              "        },\n",
              "      };\n",
              "\n",
              "      let percentDone = fileData.byteLength === 0 ?\n",
              "          100 :\n",
              "          Math.round((position / fileData.byteLength) * 100);\n",
              "      percent.textContent = `${percentDone}% done`;\n",
              "\n",
              "    } while (position < fileData.byteLength);\n",
              "  }\n",
              "\n",
              "  // All done.\n",
              "  yield {\n",
              "    response: {\n",
              "      action: 'complete',\n",
              "    }\n",
              "  };\n",
              "}\n",
              "\n",
              "scope.google = scope.google || {};\n",
              "scope.google.colab = scope.google.colab || {};\n",
              "scope.google.colab._files = {\n",
              "  _uploadFiles,\n",
              "  _uploadFilesContinue,\n",
              "};\n",
              "})(self);\n",
              "</script> "
            ]
          },
          "metadata": {}
        },
        {
          "output_type": "error",
          "ename": "KeyboardInterrupt",
          "evalue": "",
          "traceback": [
            "\u001b[0;31m---------------------------------------------------------------------------\u001b[0m",
            "\u001b[0;31mKeyboardInterrupt\u001b[0m                         Traceback (most recent call last)",
            "\u001b[0;32m<ipython-input-46-4a0b8160978c>\u001b[0m in \u001b[0;36m<cell line: 5>\u001b[0;34m()\u001b[0m\n\u001b[1;32m      3\u001b[0m \u001b[0;32mimport\u001b[0m \u001b[0mio\u001b[0m\u001b[0;34m\u001b[0m\u001b[0;34m\u001b[0m\u001b[0m\n\u001b[1;32m      4\u001b[0m \u001b[0;34m\u001b[0m\u001b[0m\n\u001b[0;32m----> 5\u001b[0;31m \u001b[0muploaded\u001b[0m \u001b[0;34m=\u001b[0m \u001b[0mfiles\u001b[0m\u001b[0;34m.\u001b[0m\u001b[0mupload\u001b[0m\u001b[0;34m(\u001b[0m\u001b[0;34m)\u001b[0m\u001b[0;34m\u001b[0m\u001b[0;34m\u001b[0m\u001b[0m\n\u001b[0m\u001b[1;32m      6\u001b[0m \u001b[0mdf\u001b[0m \u001b[0;34m=\u001b[0m \u001b[0mpd\u001b[0m\u001b[0;34m.\u001b[0m\u001b[0mread_csv\u001b[0m\u001b[0;34m(\u001b[0m\u001b[0mio\u001b[0m\u001b[0;34m.\u001b[0m\u001b[0mBytesIO\u001b[0m\u001b[0;34m(\u001b[0m\u001b[0muploaded\u001b[0m\u001b[0;34m[\u001b[0m\u001b[0;34m'~/.csv'\u001b[0m\u001b[0;34m]\u001b[0m\u001b[0;34m)\u001b[0m\u001b[0;34m,\u001b[0m \u001b[0mskiprows\u001b[0m\u001b[0;34m=\u001b[0m\u001b[0;36m1\u001b[0m\u001b[0;34m)\u001b[0m\u001b[0;34m\u001b[0m\u001b[0;34m\u001b[0m\u001b[0m\n",
            "\u001b[0;32m/usr/local/lib/python3.10/dist-packages/google/colab/files.py\u001b[0m in \u001b[0;36mupload\u001b[0;34m()\u001b[0m\n\u001b[1;32m     67\u001b[0m   \"\"\"\n\u001b[1;32m     68\u001b[0m \u001b[0;34m\u001b[0m\u001b[0m\n\u001b[0;32m---> 69\u001b[0;31m   \u001b[0muploaded_files\u001b[0m \u001b[0;34m=\u001b[0m \u001b[0m_upload_files\u001b[0m\u001b[0;34m(\u001b[0m\u001b[0mmultiple\u001b[0m\u001b[0;34m=\u001b[0m\u001b[0;32mTrue\u001b[0m\u001b[0;34m)\u001b[0m\u001b[0;34m\u001b[0m\u001b[0;34m\u001b[0m\u001b[0m\n\u001b[0m\u001b[1;32m     70\u001b[0m   \u001b[0;31m# Mapping from original filename to filename as saved locally.\u001b[0m\u001b[0;34m\u001b[0m\u001b[0;34m\u001b[0m\u001b[0m\n\u001b[1;32m     71\u001b[0m   \u001b[0mlocal_filenames\u001b[0m \u001b[0;34m=\u001b[0m \u001b[0mdict\u001b[0m\u001b[0;34m(\u001b[0m\u001b[0;34m)\u001b[0m\u001b[0;34m\u001b[0m\u001b[0;34m\u001b[0m\u001b[0m\n",
            "\u001b[0;32m/usr/local/lib/python3.10/dist-packages/google/colab/files.py\u001b[0m in \u001b[0;36m_upload_files\u001b[0;34m(multiple)\u001b[0m\n\u001b[1;32m    154\u001b[0m \u001b[0;34m\u001b[0m\u001b[0m\n\u001b[1;32m    155\u001b[0m   \u001b[0;31m# First result is always an indication that the file picker has completed.\u001b[0m\u001b[0;34m\u001b[0m\u001b[0;34m\u001b[0m\u001b[0m\n\u001b[0;32m--> 156\u001b[0;31m   result = _output.eval_js(\n\u001b[0m\u001b[1;32m    157\u001b[0m       'google.colab._files._uploadFiles(\"{input_id}\", \"{output_id}\")'.format(\n\u001b[1;32m    158\u001b[0m           \u001b[0minput_id\u001b[0m\u001b[0;34m=\u001b[0m\u001b[0minput_id\u001b[0m\u001b[0;34m,\u001b[0m \u001b[0moutput_id\u001b[0m\u001b[0;34m=\u001b[0m\u001b[0moutput_id\u001b[0m\u001b[0;34m\u001b[0m\u001b[0;34m\u001b[0m\u001b[0m\n",
            "\u001b[0;32m/usr/local/lib/python3.10/dist-packages/google/colab/output/_js.py\u001b[0m in \u001b[0;36meval_js\u001b[0;34m(script, ignore_result, timeout_sec)\u001b[0m\n\u001b[1;32m     38\u001b[0m   \u001b[0;32mif\u001b[0m \u001b[0mignore_result\u001b[0m\u001b[0;34m:\u001b[0m\u001b[0;34m\u001b[0m\u001b[0;34m\u001b[0m\u001b[0m\n\u001b[1;32m     39\u001b[0m     \u001b[0;32mreturn\u001b[0m\u001b[0;34m\u001b[0m\u001b[0;34m\u001b[0m\u001b[0m\n\u001b[0;32m---> 40\u001b[0;31m   \u001b[0;32mreturn\u001b[0m \u001b[0m_message\u001b[0m\u001b[0;34m.\u001b[0m\u001b[0mread_reply_from_input\u001b[0m\u001b[0;34m(\u001b[0m\u001b[0mrequest_id\u001b[0m\u001b[0;34m,\u001b[0m \u001b[0mtimeout_sec\u001b[0m\u001b[0;34m)\u001b[0m\u001b[0;34m\u001b[0m\u001b[0;34m\u001b[0m\u001b[0m\n\u001b[0m\u001b[1;32m     41\u001b[0m \u001b[0;34m\u001b[0m\u001b[0m\n\u001b[1;32m     42\u001b[0m \u001b[0;34m\u001b[0m\u001b[0m\n",
            "\u001b[0;32m/usr/local/lib/python3.10/dist-packages/google/colab/_message.py\u001b[0m in \u001b[0;36mread_reply_from_input\u001b[0;34m(message_id, timeout_sec)\u001b[0m\n\u001b[1;32m     94\u001b[0m     \u001b[0mreply\u001b[0m \u001b[0;34m=\u001b[0m \u001b[0m_read_next_input_message\u001b[0m\u001b[0;34m(\u001b[0m\u001b[0;34m)\u001b[0m\u001b[0;34m\u001b[0m\u001b[0;34m\u001b[0m\u001b[0m\n\u001b[1;32m     95\u001b[0m     \u001b[0;32mif\u001b[0m \u001b[0mreply\u001b[0m \u001b[0;34m==\u001b[0m \u001b[0m_NOT_READY\u001b[0m \u001b[0;32mor\u001b[0m \u001b[0;32mnot\u001b[0m \u001b[0misinstance\u001b[0m\u001b[0;34m(\u001b[0m\u001b[0mreply\u001b[0m\u001b[0;34m,\u001b[0m \u001b[0mdict\u001b[0m\u001b[0;34m)\u001b[0m\u001b[0;34m:\u001b[0m\u001b[0;34m\u001b[0m\u001b[0;34m\u001b[0m\u001b[0m\n\u001b[0;32m---> 96\u001b[0;31m       \u001b[0mtime\u001b[0m\u001b[0;34m.\u001b[0m\u001b[0msleep\u001b[0m\u001b[0;34m(\u001b[0m\u001b[0;36m0.025\u001b[0m\u001b[0;34m)\u001b[0m\u001b[0;34m\u001b[0m\u001b[0;34m\u001b[0m\u001b[0m\n\u001b[0m\u001b[1;32m     97\u001b[0m       \u001b[0;32mcontinue\u001b[0m\u001b[0;34m\u001b[0m\u001b[0;34m\u001b[0m\u001b[0m\n\u001b[1;32m     98\u001b[0m     if (\n",
            "\u001b[0;31mKeyboardInterrupt\u001b[0m: "
          ]
        }
      ]
    },
    {
      "cell_type": "code",
      "source": [
        "csv_values= df.values\n",
        "x_poses=csv_values[:, :6]\n",
        "z_true=csv_values[:,6]\n",
        "w_x=csv_values[:,7]\n",
        "z_x=csv_values[:,8]\n"
      ],
      "metadata": {
        "id": "p-nhrl3hMrea"
      },
      "execution_count": null,
      "outputs": []
    },
    {
      "cell_type": "code",
      "source": [
        "z_x=z_x.reshape(-1,1)\n",
        "xz_input=np.hstack((x_poses, z_x))\n",
        "\n",
        "w_x=w_x.reshape(-1,1)"
      ],
      "metadata": {
        "id": "2k7_STQoNBj-"
      },
      "execution_count": null,
      "outputs": []
    },
    {
      "cell_type": "code",
      "source": [
        "xz_input=xz_input.astype(np.float32)\n",
        "print(f\"xz_input numpy array dtype: {xz_input.dtype}\")\n",
        "print(f\"xz_input.shape: {xz_input.shape}\")\n",
        "w_x = w_x.astype(np.float32)\n",
        "\n",
        "print(f\"w_x numpy array dtype: {w_x.dtype}\")\n",
        "print(f\"w_x.shape: {w_x.shape}\")\n"
      ],
      "metadata": {
        "id": "jJ-Fm_BzNYfJ",
        "colab": {
          "base_uri": "https://localhost:8080/"
        },
        "outputId": "4acaaa48-a9bf-43ef-b060-3b87276d1e13"
      },
      "execution_count": null,
      "outputs": [
        {
          "output_type": "stream",
          "name": "stdout",
          "text": [
            "xz_input numpy array dtype: float32\n",
            "xz_input.shape: (3375000, 7)\n",
            "w_x numpy array dtype: float32\n",
            "w_x.shape: (3375000, 1)\n"
          ]
        }
      ]
    },
    {
      "cell_type": "code",
      "source": [
        "z_x_graph=z_x.reshape(-1)\n",
        "\n",
        "z_x_graph=z_x_graph.astype(np.float32)\n",
        "\n",
        "w_x_graph=w_x.reshape(-1)\n",
        "w_x_graph=list(w_x_graph.astype(np.float32))\n",
        "\n",
        "\n",
        "\n"
      ],
      "metadata": {
        "id": "2rz_GSlfNazS"
      },
      "execution_count": null,
      "outputs": []
    },
    {
      "cell_type": "code",
      "source": [
        "plt.hist(w_x,20)\n",
        "plt.xlabel(\"Sampled Noise\")\n",
        "plt.ylabel(\"Frequency\")\n",
        "plt.title(\"Sampled Noise (w(x)) Histogram\")\n"
      ],
      "metadata": {
        "id": "_orR_Wm-NbUG",
        "colab": {
          "base_uri": "https://localhost:8080/",
          "height": 489
        },
        "outputId": "c7d746fb-6388-4b8c-90a5-bb39b5d740ca"
      },
      "execution_count": null,
      "outputs": [
        {
          "output_type": "execute_result",
          "data": {
            "text/plain": [
              "Text(0.5, 1.0, 'Sampled Noise (w(x)) Histogram')"
            ]
          },
          "metadata": {},
          "execution_count": 29
        },
        {
          "output_type": "display_data",
          "data": {
            "text/plain": [
              "<Figure size 640x480 with 1 Axes>"
            ],
            "image/png": "[encoded data removed]"
          },
          "metadata": {}
        }
      ]
    },
    {
      "cell_type": "code",
      "source": [
        "device = \"cuda\" if torch.cuda.is_available() else \"cpu\"\n",
        "device"
      ],
      "metadata": {
        "id": "aj-Ye0UWNgd0",
        "colab": {
          "base_uri": "https://localhost:8080/",
          "height": 35
        },
        "outputId": "28345bae-e1e9-4730-b42f-02f9b50d7ae0"
      },
      "execution_count": null,
      "outputs": [
        {
          "output_type": "execute_result",
          "data": {
            "text/plain": [
              "'cuda'"
            ],
            "application/vnd.google.colaboratory.intrinsic+json": {
              "type": "string"
            }
          },
          "metadata": {},
          "execution_count": 35
        }
      ]
    },
    {
      "cell_type": "code",
      "source": [
        "xz_train, xz_temp, w_x_train, w_x_temp = train_test_split(xz_input, w_x, test_size=0.3, random_state=42)\n",
        "xz_val, xz_test, w_x_val, w_x_test = train_test_split(xz_temp, w_x_temp, test_size=0.5, random_state=42)\n"
      ],
      "metadata": {
        "id": "I77JTto7nOlz"
      },
      "execution_count": null,
      "outputs": []
    },
    {
      "cell_type": "code",
      "source": [
        "xz_pose_train_scaled_tensor = torch.tensor(xz_train, dtype=torch.float32, device=device)\n",
        "xz_pose_valid_scaled_tensor = torch.tensor(xz_val, dtype=torch.float32, device=device)\n",
        "xz_pose_test_scaled_tensor = torch.tensor(xz_test, dtype=torch.float32, device=device)\n",
        "\n",
        "print(\"X Pose, Z Scalar Distance Train Tensor Shape:\", xz_pose_train_scaled_tensor.shape)\n",
        "print(\"X Pose, Z Scalar Validation Tensor Shape:\", xz_pose_valid_scaled_tensor.shape)\n",
        "print(\"X Pose, Z Scalar Test Tensor Shape:\", xz_pose_test_scaled_tensor.shape)\n",
        "\n",
        "\n",
        "w_x_train_tensor = torch.tensor(w_x_train, dtype=torch.float32, device=device)\n",
        "w_x_valid_tensor = torch.tensor(w_x_val, dtype=torch.float32, device=device)\n",
        "\n",
        "w_x_test_tensor = torch.tensor(w_x_test, dtype=torch.float32, device=device)\n",
        "\n",
        "print(\"w(x) Train Tensor Shape:\", w_x_train_tensor.shape)\n",
        "print(\"w(x) Validation Tensor Shape:\", w_x_valid_tensor.shape)\n",
        "print(\"w(x) Test Tensor Shape:\", w_x_test_tensor.shape)"
      ],
      "metadata": {
        "id": "pBLB8pB_nR8U",
        "colab": {
          "base_uri": "https://localhost:8080/"
        },
        "outputId": "f26d45c5-e0e8-464c-8e07-967ef58dfd49"
      },
      "execution_count": null,
      "outputs": [
        {
          "output_type": "stream",
          "name": "stdout",
          "text": [
            "X Pose, Z Scalar Distance Train Tensor Shape: torch.Size([2362500, 7])\n",
            "X Pose, Z Scalar Validation Tensor Shape: torch.Size([506250, 7])\n",
            "X Pose, Z Scalar Test Tensor Shape: torch.Size([506250, 7])\n",
            "w(x) Train Tensor Shape: torch.Size([2362500, 1])\n",
            "w(x) Validation Tensor Shape: torch.Size([506250, 1])\n",
            "w(x) Test Tensor Shape: torch.Size([506250, 1])\n"
          ]
        }
      ]
    },
    {
      "cell_type": "code",
      "source": [
        "class NoisePredictionModel(nn.Module):\n",
        "    #in_features: UWB change in pose and true distance of two robots\n",
        "    #Hidden Layer 1: # of neurons\n",
        "    #Hidden Layer 2: neurons\n",
        "    #Output layer: UWB Sensor Noise\n",
        "    def __init__(self, in_features=7, h1=256, h2=128, h3=64, h4=32, out_features=1, dropout_rate=0.1):\n",
        "        super().__init__()\n",
        "        self.fc1 = nn.Linear(in_features, h1) #trial and error, adjust/look at hyperparameters\n",
        "        self.dropout1 = nn.Dropout(p=dropout_rate)\n",
        "        self.fc2 = nn.Linear(h1, h2)\n",
        "        self.dropout2 = nn.Dropout(p=dropout_rate)\n",
        "        self.fc3=nn.Linear(h2,h3)\n",
        "        self.dropout3 = nn.Dropout(p=dropout_rate)\n",
        "        self.fc4=nn.Linear(h3,h4)\n",
        "\n",
        "\n",
        "        self.out = nn.Linear(h4, out_features)\n",
        "\n",
        "    def forward(self, x):\n",
        "        x = torch.relu(self.fc1(x))\n",
        "        x = self.dropout1(x)\n",
        "        x = torch.relu(self.fc2(x))\n",
        "        x = self.dropout2(x)\n",
        "        x=torch.relu(self.fc3(x))\n",
        "        x=self.dropout3(x)\n",
        "        x=torch.relu(self.fc4(x))\n",
        "        x = self.out(x)\n",
        "        return x"
      ],
      "metadata": {
        "id": "C3w2UxeOoRJV"
      },
      "execution_count": null,
      "outputs": []
    },
    {
      "cell_type": "code",
      "source": [
        "model = NoisePredictionModel()\n",
        "model.to(device)\n",
        "\n",
        "fc1_weight_shape = model.state_dict()[\"fc1.weight\"].shape\n",
        "fc1_bias_shape = model.state_dict()[\"fc1.bias\"].shape\n",
        "\n",
        "fc2_weight_shape = model.state_dict()[\"fc2.weight\"].shape\n",
        "fc2_bias_shape = model.state_dict()[\"fc2.bias\"].shape\n",
        "\n",
        "fc3_weight_shape = model.state_dict()[\"fc3.weight\"].shape\n",
        "fc3_bias_shape = model.state_dict()[\"fc3.bias\"].shape\n",
        "\n",
        "fc4_weight_shape = model.state_dict()[\"fc4.weight\"].shape\n",
        "fc4_bias_shape = model.state_dict()[\"fc4.bias\"].shape\n",
        "\n",
        "out_weight_shape = model.state_dict()[\"out.weight\"].shape\n",
        "out_bias_shape = model.state_dict()[\"out.bias\"].shape\n",
        "\n",
        "# Check for dropout layers\n",
        "dropout1_rate = model.dropout1.p if hasattr(model, 'dropout1') else None\n",
        "dropout2_rate = model.dropout2.p if hasattr(model, 'dropout2') else None\n",
        "dropout3_rate = model.dropout3.p if hasattr(model, 'dropout3') else None\n",
        "\n",
        "print(f\"Model state dict keys: {model.state_dict().keys()}\")\n",
        "print(f\"fc1 weight shape: {fc1_weight_shape} | fc1 bias shape: {fc1_bias_shape}\")\n",
        "print(f\"fc2 weight shape: {fc2_weight_shape} | fc2 bias shape: {fc2_bias_shape}\")\n",
        "print(f\"fc3 weight shape: {fc3_weight_shape} | fc3 bias shape: {fc3_bias_shape}\")\n",
        "print(f\"fc4 weight shape: {fc4_weight_shape} | fc4 bias shape: {fc4_bias_shape}\")\n",
        "\n",
        "print(f\"out weight shape: {out_weight_shape} | out bias shape: {out_bias_shape}\")\n",
        "print(f\"Dropout1 rate: {dropout1_rate}\")\n",
        "print(f\"Dropout2 rate: {dropout2_rate}\")\n",
        "print(f\"Dropout3 rate: {dropout3_rate}\")"
      ],
      "metadata": {
        "id": "oQXYPG6woWnE",
        "colab": {
          "base_uri": "https://localhost:8080/"
        },
        "outputId": "983bdad5-87c3-4f1a-f1a9-aeea7539e41d"
      },
      "execution_count": null,
      "outputs": [
        {
          "output_type": "stream",
          "name": "stdout",
          "text": [
            "Model state dict keys: odict_keys(['fc1.weight', 'fc1.bias', 'fc2.weight', 'fc2.bias', 'fc3.weight', 'fc3.bias', 'fc4.weight', 'fc4.bias', 'out.weight', 'out.bias'])\n",
            "fc1 weight shape: torch.Size([256, 7]) | fc1 bias shape: torch.Size([256])\n",
            "fc2 weight shape: torch.Size([128, 256]) | fc2 bias shape: torch.Size([128])\n",
            "fc3 weight shape: torch.Size([64, 128]) | fc3 bias shape: torch.Size([64])\n",
            "fc4 weight shape: torch.Size([32, 64]) | fc4 bias shape: torch.Size([32])\n",
            "out weight shape: torch.Size([1, 32]) | out bias shape: torch.Size([1])\n",
            "Dropout1 rate: 0.1\n",
            "Dropout2 rate: 0.1\n",
            "Dropout3 rate: 0.1\n"
          ]
        }
      ]
    },
    {
      "cell_type": "code",
      "source": [
        "loss_fn = nn.SmoothL1Loss()\n",
        "optimizer = optim.AdamW(model.parameters(), lr=0.000004, weight_decay=0.04)"
      ],
      "metadata": {
        "id": "Djjb5XuBvjXz"
      },
      "execution_count": null,
      "outputs": []
    },
    {
      "cell_type": "code",
      "source": [
        "from torch.utils.data import DataLoader, TensorDataset\n",
        "train_dataset = TensorDataset(xz_pose_train_scaled_tensor, w_x_train_tensor)\n",
        "train_loader = DataLoader(train_dataset, batch_size=64, shuffle=True)"
      ],
      "metadata": {
        "id": "9b0Dv5Fbvl6_"
      },
      "execution_count": null,
      "outputs": []
    },
    {
      "cell_type": "code",
      "source": [
        "epochs = 30\n",
        "batch_size=64\n",
        "\n",
        "epoch_count= []\n",
        "\n",
        "w_x_train_loss_values= []\n",
        "\n",
        "w_x_valid_loss_values = []\n",
        "\n",
        "correctd_UWB_pose_test_loss_values = []\n",
        "\n",
        "print_loss_rate=25\n",
        "\n",
        "\n",
        "for epoch in range(epochs):\n",
        "  #Set model to training mode\n",
        "  model.train()\n",
        "  for batch_xz_pose_scaled, batch_w_x in train_loader:\n",
        "  #1. Forward pass\n",
        "      batch_w_x_scaled_pred= model(batch_xz_pose_scaled) #predicted pose essentially? or is this the error\n",
        "  #2. Calculate loss\n",
        "  #WE MUST PUT THE UNSCALE THE PREDICTED DATA SO ITS IN THE ORIGNIAL SCALE OF THE OUTPUT SO OUR LOSS ISN'T FUCKED UP\n",
        "      loss=loss_fn(batch_w_x_scaled_pred, batch_w_x)\n",
        "  #3. Zero the gradient\n",
        "      optimizer.zero_grad()\n",
        "\n",
        "  #3. Perform backpropogation:\n",
        "      loss.backward()\n",
        "\n",
        "  #4. Step the optimizer\n",
        "      optimizer.step()\n",
        "\n",
        "  # Validation loop\n",
        "\n",
        "  model.eval()\n",
        "  with torch.inference_mode(): #testing the predictions\n",
        "    w_x_valid_pred=model(xz_pose_valid_scaled_tensor)\n",
        "    w_x_valid_loss=loss_fn(w_x_valid_pred, w_x_valid_tensor)\n",
        "\n",
        "  if epoch%1==0: #just to print info\n",
        "    epoch_count.append(epoch)\n",
        "    w_x_valid_loss_values.append(w_x_valid_loss.cpu().detach().numpy())\n",
        "    w_x_train_loss_values.append(loss.cpu().detach().numpy())\n",
        "    print(f\"Epoch:{epoch+1}| Loss: {loss} | Validation loss: {w_x_valid_loss}\")\n"
      ],
      "metadata": {
        "id": "PtP58jhQv04X",
        "colab": {
          "base_uri": "https://localhost:8080/"
        },
        "outputId": "1ce32bff-348f-4a0d-9a29-33e23f326533"
      },
      "execution_count": null,
      "outputs": [
        {
          "output_type": "stream",
          "name": "stdout",
          "text": [
            "Epoch:1| Loss: 0.0017845570109784603 | Validation loss: 0.0016716406680643559\n",
            "Epoch:2| Loss: 0.0018724016845226288 | Validation loss: 0.001666996511630714\n",
            "Epoch:3| Loss: 0.0009347526938654482 | Validation loss: 0.0016667423769831657\n",
            "Epoch:4| Loss: 0.0015641746576875448 | Validation loss: 0.001666573341935873\n",
            "Epoch:5| Loss: 0.0022422473412007093 | Validation loss: 0.0016667984891682863\n",
            "Epoch:6| Loss: 0.0022803826723247766 | Validation loss: 0.0016665443545207381\n",
            "Epoch:7| Loss: 0.0015099446754902601 | Validation loss: 0.0016665945295244455\n",
            "Epoch:8| Loss: 0.0014030055608600378 | Validation loss: 0.0016665434231981635\n",
            "Epoch:9| Loss: 0.00205725384876132 | Validation loss: 0.0016665608854964375\n",
            "Epoch:10| Loss: 0.0010760386940091848 | Validation loss: 0.0016666239826008677\n",
            "Epoch:11| Loss: 0.0013776239939033985 | Validation loss: 0.0016665459843352437\n",
            "Epoch:12| Loss: 0.0017282473854720592 | Validation loss: 0.0016665799776092172\n",
            "Epoch:13| Loss: 0.0021477346308529377 | Validation loss: 0.0016665320144966245\n",
            "Epoch:14| Loss: 0.0018789672758430243 | Validation loss: 0.0016666355077177286\n",
            "Epoch:15| Loss: 0.0013201781548559666 | Validation loss: 0.001666545053012669\n",
            "Epoch:16| Loss: 0.000647245382424444 | Validation loss: 0.001666547730565071\n",
            "Epoch:17| Loss: 0.002944756532087922 | Validation loss: 0.0016666058218106627\n",
            "Epoch:18| Loss: 0.0009779769461601973 | Validation loss: 0.001666541676968336\n",
            "Epoch:19| Loss: 0.002521968213841319 | Validation loss: 0.001666744239628315\n",
            "Epoch:20| Loss: 0.0030370550230145454 | Validation loss: 0.0016665576258674264\n",
            "Epoch:21| Loss: 0.0019974377937614918 | Validation loss: 0.0016666421433910728\n",
            "Epoch:22| Loss: 0.0017427988350391388 | Validation loss: 0.001666542375460267\n",
            "Epoch:23| Loss: 0.0013546692207455635 | Validation loss: 0.0016665434231981635\n",
            "Epoch:24| Loss: 0.0024744421243667603 | Validation loss: 0.0016667991876602173\n",
            "Epoch:25| Loss: 0.0019043243955820799 | Validation loss: 0.0016665328294038773\n",
            "Epoch:26| Loss: 0.0014552990905940533 | Validation loss: 0.001666527008637786\n",
            "Epoch:27| Loss: 0.0009723872062750161 | Validation loss: 0.0016665494767948985\n",
            "Epoch:28| Loss: 0.001207981607876718 | Validation loss: 0.0016666112933307886\n",
            "Epoch:29| Loss: 0.0010679796105250716 | Validation loss: 0.0016667039599269629\n",
            "Epoch:30| Loss: 0.0018387369345873594 | Validation loss: 0.00166652025654912\n"
          ]
        }
      ]
    },
    {
      "cell_type": "code",
      "source": [
        "plt.figure()\n",
        "plt.plot(epoch_count,w_x_valid_loss_values,\"b\", label=\"validation\")\n",
        "plt.plot(epoch_count,w_x_train_loss_values,\"r\", label=\"training\")\n",
        "plt.xlabel(\"Epochs\")\n",
        "plt.ylabel(\"Loss\")\n",
        "plt.title(\"Epochs vs Loss\")\n",
        "plt.legend()\n"
      ],
      "metadata": {
        "id": "solbuGHIv2LZ"
      },
      "execution_count": null,
      "outputs": []
    },
    {
      "cell_type": "code",
      "source": [
        "model.eval()\n",
        "with torch.inference_mode():\n",
        "    # w_x_test_pred = model(xz_pose_test_scaled_tensor)\n",
        "    w_x_test_pred = model(xz_pose_train_scaled_tensor)\n",
        "    w_x_test_loss=loss_fn(w_x_test_pred, w_x_train_tensor) #TEST DATA\n",
        "print(f\"Test loss: {w_x_test_loss}\")\n",
        "print(w_x_test_pred)"
      ],
      "metadata": {
        "id": "gmLFsyxlv-Ae",
        "colab": {
          "base_uri": "https://localhost:8080/"
        },
        "outputId": "02ed6fd2-5463-4522-e101-fe4eccac571b"
      },
      "execution_count": null,
      "outputs": [
        {
          "output_type": "stream",
          "name": "stdout",
          "text": [
            "Test loss: 0.423936128616333\n",
            "tensor([[-10.7559],\n",
            "        [ -8.7019],\n",
            "        [  4.0545],\n",
            "        ...,\n",
            "        [ -5.2135],\n",
            "        [  8.9651],\n",
            "        [ -1.2877]], device='cuda:0')\n"
          ]
        }
      ]
    },
    {
      "cell_type": "code",
      "source": [
        "#If test set is satisfactory\n",
        "model.eval()\n",
        "with torch.inference_mode():\n",
        "    w_x_pred = model(torch.tensor(xz_input, dtype=torch.float32).to(device))\n",
        "    w_x_pred= w_x_pred.cpu().numpy()\n",
        "\n",
        "\n",
        "# print(w_x_pred.shape)\n",
        "# print(\"Corrected UWB Pose      | True Pose\")\n",
        "\n",
        "#z=w_x+h_x #h_x is true distance, z is simulated\n",
        "# for i in range(w_x_pred.shape[0]):\n",
        "#       x_pred=w_x_pred[i,0]\n",
        "#       corr_UWB_rho_disp=w_x_pred[i,1]\n",
        "#       print(f\"{corr_UWB_theta_disp:.2f} \\t {corr_UWB_rho_disp:.3f} \\t\\t|\\t{w_x_pred[i,0]} \\t {w_x_pred[i,1]}\" , end='\\t')\n",
        "#       print()"
      ],
      "metadata": {
        "id": "zKWlRxaawl9s"
      },
      "execution_count": null,
      "outputs": []
    },
    {
      "cell_type": "code",
      "source": [
        "plt.plot(w_x, w_x_pred, 'o', label='Actual vs. Predicted')\n",
        "plt.plot([min(w_x), max(w_x)], [min(w_x), max(w_x)], '--', label='Identity Line')\n",
        "\n",
        "plt.xlabel(\"w(x) sampled\")\n",
        "plt.ylabel(\"w(x) predicted mean\")\n",
        "plt.title(\"w(x) predictions vs w(x) meausred \")\n",
        "plt.legend()\n",
        "plt.show()"
      ],
      "metadata": {
        "id": "EwJ5SO0nwpNm",
        "colab": {
          "base_uri": "https://localhost:8080/",
          "height": 472
        },
        "outputId": "dd44a144-3160-4358-dd91-a980b16620ef"
      },
      "execution_count": null,
      "outputs": [
        {
          "output_type": "display_data",
          "data": {
            "text/plain": [
              "<Figure size 640x480 with 1 Axes>"
            ],
            "image/png": "[encoded data removed]"
          },
          "metadata": {}
        }
      ]
    },
    {
      "cell_type": "code",
      "source": [
        "print(w_x[0])\n",
        "print(w_x_pred[0])\n",
        "plt.hist(w_x)\n",
        "plt.xlabel(\"Measured Noise\")\n",
        "plt.ylabel(\"Frequency\")\n",
        "plt.title(\"Frequency of Measured w(x)\")"
      ],
      "metadata": {
        "id": "gD4ttxvgx52c",
        "colab": {
          "base_uri": "https://localhost:8080/",
          "height": 524
        },
        "outputId": "05d58845-a8b2-44af-b629-bbc507c20695"
      },
      "execution_count": null,
      "outputs": [
        {
          "output_type": "stream",
          "name": "stdout",
          "text": [
            "[-7.8960514]\n",
            "[-5.3092866]\n"
          ]
        },
        {
          "output_type": "execute_result",
          "data": {
            "text/plain": [
              "Text(0.5, 1.0, 'Frequency of Measured w(x)')"
            ]
          },
          "metadata": {},
          "execution_count": 20
        },
        {
          "output_type": "display_data",
          "data": {
            "text/plain": [
              "<Figure size 640x480 with 1 Axes>"
            ],
            "image/png": "[encoded data removed]"
          },
          "metadata": {}
        }
      ]
    },
    {
      "cell_type": "code",
      "source": [
        "plt.hist(w_x_pred, color=\"red\")\n",
        "plt.xlabel(\"Predicted Noise\")\n",
        "plt.ylabel(\"Frequency\")\n",
        "plt.title(\"Frequency of Predicted w(x)\")"
      ],
      "metadata": {
        "id": "IsWzPRaYx7_K",
        "colab": {
          "base_uri": "https://localhost:8080/",
          "height": 489
        },
        "outputId": "e82ecf0a-4429-49df-8a0c-2632e8b9ff75"
      },
      "execution_count": null,
      "outputs": [
        {
          "output_type": "execute_result",
          "data": {
            "text/plain": [
              "Text(0.5, 1.0, 'Frequency of Predicted w(x)')"
            ]
          },
          "metadata": {},
          "execution_count": 21
        },
        {
          "output_type": "display_data",
          "data": {
            "text/plain": [
              "<Figure size 640x480 with 1 Axes>"
            ],
            "image/png": "[encoded data removed]"
          },
          "metadata": {}
        }
      ]
    },
    {
      "cell_type": "code",
      "source": [
        "parameters=model.state_dict()\n",
        "\n",
        "weights = [parameters[key] for key in parameters if 'weight' in key]\n",
        "\n",
        "biases = [parameters[key] for key in parameters if 'bias' in key]\n",
        "for i in range(len(weights)):\n",
        "  print(f\"Layer {i+1} Weight: \\n {weights[i].cpu().numpy()}\")\n",
        "for i in range(len(biases)):\n",
        "  print(f\"Layer {i+1} Bias: \\n {biases[i].cpu().numpy()}\")\n"
      ],
      "metadata": {
        "id": "li4XuyAqx-BI",
        "colab": {
          "base_uri": "https://localhost:8080/"
        },
        "outputId": "8a10b0e5-0588-4a7c-dbff-38890d5c87e9"
      },
      "execution_count": null,
      "outputs": [
        {
          "output_type": "stream",
          "name": "stdout",
          "text": [
            "Layer 1 Weight: \n",
            " [[-1.1541375e-01 -3.4959432e-01  1.2922421e-01 ... -2.6171485e-01\n",
            "  -3.0457059e-01  5.2354199e-01]\n",
            " [ 3.0497295e-01 -4.0414900e-02  1.7680444e-01 ... -7.5024374e-02\n",
            "   7.9303145e-02 -4.9607524e-01]\n",
            " [-2.7314296e-01 -7.4229494e-02 -2.4716456e-01 ...  3.9451107e-02\n",
            "   3.5107192e-01  6.6989340e-02]\n",
            " ...\n",
            " [-2.7081695e-01 -1.6986109e-01 -1.6316789e-01 ... -2.4236068e-02\n",
            "   2.9774759e-05  3.1314123e-01]\n",
            " [-5.3963631e-01 -2.4907544e-02 -1.7614385e-01 ...  1.5849613e-01\n",
            "   2.0215362e-01  5.3052956e-01]\n",
            " [ 3.1893539e-01  4.4396898e-01  4.1305798e-01 ...  8.8869557e-02\n",
            "  -4.4050928e-02 -3.0733973e-01]]\n",
            "Layer 2 Weight: \n",
            " [[-0.05392394 -0.00806286 -0.04770771 ... -0.05828352 -0.01137698\n",
            "   0.11136022]\n",
            " [ 0.00683571 -0.03924962 -0.01670942 ...  0.02428254 -0.01347412\n",
            "   0.07622584]\n",
            " [ 0.05506688  0.00914537 -0.01663368 ...  0.02983182 -0.0290203\n",
            "   0.02890827]\n",
            " ...\n",
            " [-0.0290931  -0.07293519 -0.03052747 ... -0.02460778  0.05675202\n",
            "  -0.07156063]\n",
            " [ 0.05864587 -0.0101905  -0.01647515 ...  0.00245649  0.01762026\n",
            "  -0.06966352]\n",
            " [-0.02614349 -0.03969745 -0.01272013 ... -0.01650184  0.0598502\n",
            "  -0.05065019]]\n",
            "Layer 3 Weight: \n",
            " [[ 0.05514777  0.00730188  0.04916432 ... -0.04849683  0.05656807\n",
            "  -0.02210015]\n",
            " [ 0.09918227  0.02225392  0.03817342 ... -0.07901198 -0.06570439\n",
            "  -0.09178391]\n",
            " [-0.06342703 -0.08420874 -0.06743338 ...  0.08024479 -0.02678088\n",
            "   0.1055953 ]\n",
            " ...\n",
            " [-0.00616831  0.09250651  0.05365024 ... -0.03374034 -0.08472202\n",
            "   0.01485279]\n",
            " [-0.03278069 -0.05018105 -0.00385578 ... -0.00196296  0.07305387\n",
            "   0.04621445]\n",
            " [ 0.03516394  0.05266488  0.04962439 ... -0.04740689 -0.08588219\n",
            "  -0.09270597]]\n",
            "Layer 4 Weight: \n",
            " [[-8.27373564e-02  2.05521528e-02  1.30894026e-02 ... -9.39465016e-02\n",
            "  -1.91729832e-02 -1.00102060e-01]\n",
            " [ 5.06174820e-06  1.94693711e-02 -7.13411421e-02 ... -4.68845014e-03\n",
            "   8.34488720e-02  1.16905630e-01]\n",
            " [-7.75472373e-02 -4.54204045e-02  6.19337484e-02 ...  9.29116458e-02\n",
            "   1.46396430e-02 -1.47136683e-02]\n",
            " ...\n",
            " [ 8.33863243e-02  2.35532988e-02 -3.89111191e-02 ...  1.36329636e-01\n",
            "   1.48462204e-05  4.24756445e-02]\n",
            " [-1.15509070e-01 -1.39223943e-02  1.05562873e-01 ... -5.40190525e-02\n",
            "  -2.44784467e-02  8.24848339e-02]\n",
            " [ 1.01014175e-01 -3.62051539e-02 -1.08854890e-01 ...  6.15505278e-02\n",
            "  -1.05119027e-01 -9.88366455e-02]]\n",
            "Layer 5 Weight: \n",
            " [[-0.02862692  0.14759137 -0.15269491 -0.05450832 -0.1881831   0.12440706\n",
            "   0.14661056  0.1412697  -0.04094601 -0.15199877  0.10410982 -0.07944499\n",
            "  -0.01413373 -0.12477278  0.06963924 -0.065556    0.14677377 -0.05789808\n",
            "   0.10512814 -0.13415676 -0.1964828   0.14524245 -0.14942977  0.03461303\n",
            "  -0.12629831  0.01260996  0.18552369  0.06446113 -0.12148752  0.15615806\n",
            "  -0.07743242 -0.14781404]]\n",
            "Layer 1 Bias: \n",
            " [-0.27887636 -0.29214126 -0.13188967  0.23190928 -0.31278896 -0.00662912\n",
            " -0.13480803 -0.1851909   0.04260282 -0.06176355  0.3117091   0.11693766\n",
            "  0.2692101  -0.3073746   0.18746129 -0.23054132 -0.23730233  0.31217575\n",
            "  0.19247085  0.07371305 -0.17843197 -0.02070936 -0.28919    -0.18179315\n",
            "  0.08650652  0.06875024 -0.0321014  -0.12825121  0.19254676  0.32260305\n",
            "  0.05908835  0.1552433  -0.08963186 -0.3743666  -0.1279111  -0.14398424\n",
            "  0.23339409 -0.27667183  0.20312561  0.22194108 -0.03741696  0.2802743\n",
            " -0.39303213 -0.02719147  0.34105024 -0.39733246 -0.37055594  0.3140535\n",
            "  0.28724757 -0.01812885  0.40936884  0.34114838 -0.29615235  0.11561324\n",
            " -0.0900981   0.21150336 -0.1286169  -0.03687737 -0.16177921 -0.14520872\n",
            " -0.11940161 -0.3785388  -0.18235868  0.22824025  0.12745841  0.15648232\n",
            "  0.02600546  0.00360228  0.26919335 -0.30966398  0.08982686  0.29370165\n",
            " -0.08113787  0.4525819  -0.17277943 -0.24090068 -0.24851027  0.10991802\n",
            "  0.32003728 -0.08925236  0.35650685  0.19442512 -0.0365073   0.28464878\n",
            " -0.09950002  0.04205839 -0.30693915 -0.03241436 -0.21420766  0.403929\n",
            " -0.32030135 -0.05947706 -0.19790828  0.06298885 -0.02535345  0.0428291\n",
            "  0.17264006 -0.32258388 -0.2949755   0.09679121  0.19595306 -0.31951958\n",
            "  0.04330013 -0.09890759  0.34125423 -0.07587902 -0.20727749 -0.00699489\n",
            "  0.00061683  0.27856877 -0.16310641  0.13943318 -0.1837578   0.01775024\n",
            " -0.16097158 -0.23459788  0.38136688 -0.21016307  0.00592823 -0.41081116\n",
            " -0.2814749  -0.12717694  0.32007292 -0.01842361 -0.02510999 -0.34502882\n",
            "  0.3840829  -0.09785396 -0.20943098  0.1508927   0.03372895  0.07036225\n",
            "  0.0009606  -0.24277169 -0.05913347 -0.19453223 -0.09075101  0.28551516\n",
            "  0.2634397  -0.21307011  0.20785685  0.09908592  0.1029907   0.2940789\n",
            " -0.248033   -0.11134562  0.20549123  0.3462768   0.09772742  0.10282763\n",
            "  0.03739678 -0.33586058  0.24995166 -0.19077708  0.12108896  0.21916953\n",
            " -0.10144479  0.2080912   0.24448092  0.24503747  0.13831998  0.40113842\n",
            "  0.21190718 -0.23065168 -0.25212026 -0.03153807  0.20855758 -0.00967582\n",
            " -0.23948683 -0.17777216 -0.37797692 -0.09438801 -0.4194609   0.10715947\n",
            " -0.26113668 -0.16187564  0.24985722  0.21147339 -0.35863644 -0.00200763\n",
            " -0.32902738 -0.22426765 -0.12239471 -0.30744758 -0.07584298  0.3538913\n",
            "  0.16236791  0.2010829  -0.16320767  0.06104721 -0.33119738 -0.12882644\n",
            "  0.18023722 -0.33503112  0.07063213 -0.36931965 -0.14933753 -0.01209191\n",
            "  0.05995901 -0.29946578  0.24765511  0.12143544  0.1474208   0.43815115\n",
            "  0.28195968 -0.29877585  0.01709693  0.02753626 -0.12448071 -0.32140318\n",
            " -0.06897439 -0.35091007 -0.13231184 -0.03638566  0.1228717  -0.2081202\n",
            " -0.08788959 -0.2644188  -0.23001455  0.05782704 -0.0239004  -0.31043375\n",
            " -0.20947723  0.16252437 -0.29533854  0.28872854  0.19411124 -0.05195906\n",
            " -0.10924923 -0.23700702  0.23467685 -0.14477323 -0.28530523  0.2991731\n",
            " -0.0904025  -0.36738503  0.1994191   0.3370763   0.13039234  0.07925769\n",
            " -0.22052011 -0.3211554  -0.10339735  0.04209568  0.13903223 -0.26901838\n",
            "  0.01660959 -0.24960047  0.16674477  0.09525136  0.20730595  0.24078014\n",
            " -0.17583999  0.07927334 -0.27539763 -0.26495486]\n",
            "Layer 2 Bias: \n",
            " [ 0.05978844  0.05086923  0.03433916 -0.08087913 -0.04346079  0.11317681\n",
            "  0.07711324  0.09618577  0.0458423  -0.04263729  0.12044057 -0.02075256\n",
            "  0.01342213 -0.05974467  0.06466992 -0.07144068  0.05246209  0.05723382\n",
            "  0.07401551 -0.04747132 -0.05080337 -0.03273118  0.12331164  0.0008584\n",
            " -0.00943465  0.12652487  0.07632547  0.07077099  0.0226909   0.0788212\n",
            "  0.09248928  0.09583054 -0.02319251  0.00944871  0.10663726 -0.01187846\n",
            " -0.02256276  0.02214528  0.11531306  0.11675558  0.01854325  0.14192785\n",
            "  0.0854279   0.04084066 -0.05059119 -0.03364912  0.15463845  0.07086755\n",
            " -0.006011    0.07457352  0.04827114  0.01668493  0.09925786  0.02223497\n",
            "  0.03471074  0.04401394  0.04962573 -0.02301657  0.09263249 -0.03134861\n",
            "  0.09945286 -0.06440028  0.00395654 -0.0241189   0.03970186 -0.04309088\n",
            " -0.05770886  0.06950798  0.07586159  0.02950501  0.10737982 -0.05388403\n",
            "  0.10049219 -0.0292609   0.11521284  0.12300779  0.12969302  0.02862748\n",
            "  0.03703304 -0.01757072  0.09424975  0.0362752  -0.0011104   0.10937306\n",
            " -0.03205061  0.01484684 -0.02279616  0.08530687  0.02479639  0.10080931\n",
            "  0.04847056  0.07013742 -0.01829574  0.1574542   0.07115865  0.12250268\n",
            "  0.10455124 -0.09463047 -0.02750212 -0.02871777  0.02813014  0.02434755\n",
            " -0.03640833  0.07952347  0.02626208 -0.00701658  0.02322163 -0.00728711\n",
            " -0.01531005  0.07112741  0.04784644 -0.07133275 -0.07150974  0.09884408\n",
            " -0.02209406 -0.00102834  0.03815881  0.08325039 -0.03480975  0.02791421\n",
            " -0.1037975   0.03825323  0.04502448  0.01368418  0.01379838 -0.02741995\n",
            " -0.01382911  0.02805209]\n",
            "Layer 3 Bias: \n",
            " [ 0.00172627  0.10606134  0.09387738  0.09287249  0.05420158 -0.02121983\n",
            "  0.10605057  0.10546058 -0.09763344 -0.02073194  0.0686277   0.07149291\n",
            "  0.0656658   0.1345741   0.16383693  0.10161885 -0.03695863  0.08199451\n",
            " -0.07927997  0.06184886  0.06578984  0.11586429 -0.08006843  0.06423718\n",
            "  0.15337892  0.10288683  0.09210359 -0.05734402  0.00958196 -0.04779968\n",
            "  0.06266216  0.07972557  0.18392238  0.05317885  0.01050136  0.11904573\n",
            "  0.05365997  0.12854305  0.06283583  0.01057464 -0.02622111  0.09039815\n",
            " -0.078519    0.01784635 -0.00239105  0.02301574  0.01520478  0.0723442\n",
            "  0.01113799  0.07124742  0.09964876  0.01700033 -0.05061338  0.03229102\n",
            "  0.07360654  0.10012624  0.08823027  0.02430418 -0.01228952 -0.05420984\n",
            "  0.16031392  0.08046841 -0.03755406  0.04474065]\n",
            "Layer 4 Bias: \n",
            " [ 0.04601147  0.184283    0.00458321 -0.00322058  0.01112229  0.02013625\n",
            "  0.21523513  0.12948054  0.01396736  0.04636678  0.12705126  0.03681994\n",
            " -0.04915135  0.02249738 -0.04543189  0.13311635  0.19918671 -0.0720293\n",
            "  0.20962855 -0.02837177  0.15570162  0.0542613  -0.05471745  0.06273522\n",
            "  0.10721637  0.02905753  0.06233984  0.063086   -0.10735511  0.19868746\n",
            " -0.06054063  0.07394302]\n",
            "Layer 5 Bias: \n",
            " [0.0318621]\n"
          ]
        }
      ]
    },
    {
      "cell_type": "code",
      "source": [
        "#Saving model\n",
        "\n",
        "# 1. Create models directory\n",
        "\n",
        "MODEL_PATH = Path(\"/content/gdrive/My Drive/ACL_UWB_NN_models\")\n",
        "MODEL_PATH.mkdir(parents=True, exist_ok=True)\n",
        "\n",
        "# 2. Create model save path\n",
        "MODEL_NAME=\"UWB_NN_normal1_model.pth\" #pytorch saved as .pth /.pt\n",
        "#\n",
        "MODEL_SAVE_PATH= MODEL_PATH / MODEL_NAME\n",
        "\n",
        "# 3. Save the model state dict\n",
        "torch.save(obj=model.state_dict(), f=MODEL_SAVE_PATH)\n",
        "\n",
        "\n",
        "# Create new instance of model and load saved state dict (make sure to put it on the target device)\n",
        "loaded_model=NoisePredictionModel()\n",
        "loaded_model.load_state_dict(torch.load(f=MODEL_SAVE_PATH))\n",
        "loaded_model.to(device)\n",
        "next(loaded_model.parameters()).device\n",
        "#Load const standardized correction model"
      ],
      "metadata": {
        "id": "Gj6BGxcdyQFs"
      },
      "execution_count": null,
      "outputs": []
    },
    {
      "cell_type": "code",
      "source": [
        "#Load const standardized correction model\n",
        "model_path = MODEL_PATH/\"UWB_Simulation_Model_Const_Stand.pth\"  # Adjust the path as needed\n",
        "model = NoisePredictionModel()\n",
        "model.load_state_dict(torch.load(model_path))\n",
        "model.eval()  # Set the model to evaluation mode\n",
        "model_state_dict = model.state_dict()\n",
        "print(model_state_dict)"
      ],
      "metadata": {
        "id": "f2vgC-R1yQ-H"
      },
      "execution_count": null,
      "outputs": []
    }
  ]
}